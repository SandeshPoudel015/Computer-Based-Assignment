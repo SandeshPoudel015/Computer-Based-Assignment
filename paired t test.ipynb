{
 "cells": [
  {
   "cell_type": "code",
   "execution_count": 1,
   "metadata": {},
   "outputs": [],
   "source": [
    "# first of all, the required libraries are imported\n",
    "\n",
    "import pandas as pd\n",
    "import numpy as np\n",
    "from scipy import stats\n",
    "import xlrd\n",
    "import matplotlib.pyplot as plt\n",
    "%matplotlib inline"
   ]
  },
  {
   "cell_type": "code",
   "execution_count": 2,
   "metadata": {},
   "outputs": [
    {
     "name": "stdout",
     "output_type": "stream",
     "text": [
      "     Discharge (m3/s) at Samajhighat (US)  Discharge (m3/s) at Jamu (DS)\n",
      "0                                   101.0                          101.0\n",
      "1                                   101.0                           99.7\n",
      "2                                   101.0                           99.7\n",
      "3                                   100.0                           99.7\n",
      "4                                    99.8                           99.7\n",
      "..                                    ...                            ...\n",
      "360                                 106.0                          118.0\n",
      "361                                 106.0                          116.0\n",
      "362                                 106.0                          116.0\n",
      "363                                 104.0                          115.0\n",
      "364                                 104.0                          114.0\n",
      "\n",
      "[365 rows x 2 columns]\n"
     ]
    }
   ],
   "source": [
    "# the source file is read and the data is shown below:\n",
    "# there are 365 rows of daily discharge data\n",
    "# only two columns of discharge at upstream and downstream are imported into the program for simplicity\n",
    "\n",
    "print (pd.read_excel('hydrodata_pairedttest.xlsx', sheet_name='Sheet2',usecols=[1, 2]))"
   ]
  },
  {
   "cell_type": "code",
   "execution_count": 3,
   "metadata": {},
   "outputs": [
    {
     "data": {
      "text/html": [
       "<div>\n",
       "<style scoped>\n",
       "    .dataframe tbody tr th:only-of-type {\n",
       "        vertical-align: middle;\n",
       "    }\n",
       "\n",
       "    .dataframe tbody tr th {\n",
       "        vertical-align: top;\n",
       "    }\n",
       "\n",
       "    .dataframe thead th {\n",
       "        text-align: right;\n",
       "    }\n",
       "</style>\n",
       "<table border=\"1\" class=\"dataframe\">\n",
       "  <thead>\n",
       "    <tr style=\"text-align: right;\">\n",
       "      <th></th>\n",
       "      <th>Discharge (m3/s) at Samajhighat (US)</th>\n",
       "      <th>Discharge (m3/s) at Jamu (DS)</th>\n",
       "    </tr>\n",
       "  </thead>\n",
       "  <tbody>\n",
       "    <tr>\n",
       "      <th>count</th>\n",
       "      <td>365.000000</td>\n",
       "      <td>365.000000</td>\n",
       "    </tr>\n",
       "    <tr>\n",
       "      <th>mean</th>\n",
       "      <td>287.692603</td>\n",
       "      <td>299.648493</td>\n",
       "    </tr>\n",
       "    <tr>\n",
       "      <th>std</th>\n",
       "      <td>256.813296</td>\n",
       "      <td>261.998415</td>\n",
       "    </tr>\n",
       "    <tr>\n",
       "      <th>min</th>\n",
       "      <td>80.900000</td>\n",
       "      <td>71.800000</td>\n",
       "    </tr>\n",
       "    <tr>\n",
       "      <th>25%</th>\n",
       "      <td>101.000000</td>\n",
       "      <td>101.000000</td>\n",
       "    </tr>\n",
       "    <tr>\n",
       "      <th>50%</th>\n",
       "      <td>163.000000</td>\n",
       "      <td>184.000000</td>\n",
       "    </tr>\n",
       "    <tr>\n",
       "      <th>75%</th>\n",
       "      <td>368.000000</td>\n",
       "      <td>409.000000</td>\n",
       "    </tr>\n",
       "    <tr>\n",
       "      <th>max</th>\n",
       "      <td>1360.000000</td>\n",
       "      <td>1300.000000</td>\n",
       "    </tr>\n",
       "  </tbody>\n",
       "</table>\n",
       "</div>"
      ],
      "text/plain": [
       "       Discharge (m3/s) at Samajhighat (US)  Discharge (m3/s) at Jamu (DS)\n",
       "count                            365.000000                     365.000000\n",
       "mean                             287.692603                     299.648493\n",
       "std                              256.813296                     261.998415\n",
       "min                               80.900000                      71.800000\n",
       "25%                              101.000000                     101.000000\n",
       "50%                              163.000000                     184.000000\n",
       "75%                              368.000000                     409.000000\n",
       "max                             1360.000000                    1300.000000"
      ]
     },
     "execution_count": 3,
     "metadata": {},
     "output_type": "execute_result"
    }
   ],
   "source": [
    "# the required sheet and columns are imported\n",
    "# the descriptive statistics is shown below:\n",
    "\n",
    "importedsheet=pd.read_excel('hydrodata_pairedttest.xlsx', sheet_name='Sheet2',usecols=[0, 1, 2])\n",
    "importedsheet.describe()"
   ]
  },
  {
   "cell_type": "code",
   "execution_count": 4,
   "metadata": {},
   "outputs": [],
   "source": [
    "# Ho: The avg discharge at upstream is same as avg discharge at downstream\n",
    "# H1: The avg discharge at upstream and avg discharge at downstream are significantly different"
   ]
  },
  {
   "cell_type": "code",
   "execution_count": 5,
   "metadata": {},
   "outputs": [],
   "source": [
    "# the sheet is again imported using another library and command to automatically determine rows number\n",
    "\n",
    "book=xlrd.open_workbook('hydrodata_pairedttest.xlsx')\n",
    "sheet=book.sheet_by_name('Sheet2')"
   ]
  },
  {
   "cell_type": "code",
   "execution_count": 6,
   "metadata": {},
   "outputs": [
    {
     "name": "stdout",
     "output_type": "stream",
     "text": [
      "[101.0, 101.0, 101.0, 100.0, 99.8, 98.4, 108.0, 114.0, 112.0, 110.0, 106.0, 104.0, 104.0, 101.0, 99.8, 99.3, 98.4, 98.4, 97.9, 97.0, 95.1, 94.2, 94.2, 94.2, 94.2, 94.2, 94.2, 92.8, 92.8, 94.2, 95.1, 97.0, 93.7, 92.8, 92.8, 92.3, 90.0, 90.5, 91.4, 95.6, 96.1, 96.1, 95.6, 93.3, 92.8, 90.5, 87.4, 87.4, 87.4, 87.4, 87.8, 86.1, 85.2, 82.2, 81.3, 84.4, 90.5, 90.9, 87.8, 87.0, 95.1, 88.7, 86.5, 86.5, 86.5, 85.7, 85.7, 84.8, 87.0, 86.5, 85.2, 85.2, 84.8, 84.8, 84.4, 83.5, 82.6, 82.2, 80.9, 80.9, 80.9, 82.6, 87.8, 87.8, 121.0, 114.0, 97.0, 97.0, 97.0, 96.1, 96.5, 95.6, 95.6, 94.2, 94.2, 94.2, 96.1, 97.5, 97.5, 97.9, 99.3, 104.0, 106.0, 104.0, 108.0, 117.0, 122.0, 131.0, 129.0, 125.0, 125.0, 121.0, 133.0, 150.0, 150.0, 154.0, 152.0, 172.0, 234.0, 247.0, 276.0, 335.0, 300.0, 279.0, 266.0, 256.0, 261.0, 221.0, 218.0, 213.0, 208.0, 190.0, 163.0, 156.0, 155.0, 156.0, 153.0, 158.0, 154.0, 154.0, 151.0, 147.0, 153.0, 143.0, 142.0, 145.0, 183.0, 192.0, 191.0, 206.0, 213.0, 232.0, 223.0, 200.0, 214.0, 204.0, 208.0, 218.0, 233.0, 206.0, 185.0, 205.0, 222.0, 261.0, 347.0, 292.0, 240.0, 277.0, 297.0, 247.0, 234.0, 221.0, 202.0, 268.0, 353.0, 412.0, 391.0, 366.0, 506.0, 471.0, 401.0, 344.0, 345.0, 303.0, 287.0, 269.0, 264.0, 333.0, 305.0, 303.0, 416.0, 468.0, 368.0, 349.0, 582.0, 693.0, 620.0, 690.0, 610.0, 545.0, 481.0, 477.0, 486.0, 523.0, 511.0, 549.0, 580.0, 673.0, 629.0, 867.0, 839.0, 713.0, 663.0, 680.0, 780.0, 836.0, 867.0, 1360.0, 1210.0, 937.0, 927.0, 787.0, 867.0, 737.0, 672.0, 631.0, 597.0, 731.0, 815.0, 740.0, 691.0, 752.0, 710.0, 635.0, 590.0, 610.0, 802.0, 820.0, 721.0, 622.0, 742.0, 704.0, 965.0, 932.0, 968.0, 962.0, 1080.0, 980.0, 968.0, 1180.0, 979.0, 914.0, 872.0, 740.0, 755.0, 725.0, 684.0, 665.0, 663.0, 631.0, 582.0, 564.0, 513.0, 515.0, 488.0, 562.0, 617.0, 553.0, 575.0, 623.0, 528.0, 501.0, 462.0, 438.0, 429.0, 406.0, 395.0, 385.0, 368.0, 344.0, 330.0, 320.0, 310.0, 305.0, 301.0, 295.0, 276.0, 269.0, 264.0, 255.0, 245.0, 242.0, 239.0, 238.0, 232.0, 228.0, 222.0, 213.0, 210.0, 203.0, 198.0, 196.0, 194.0, 190.0, 186.0, 184.0, 182.0, 179.0, 176.0, 174.0, 168.0, 166.0, 165.0, 163.0, 162.0, 160.0, 160.0, 159.0, 158.0, 157.0, 156.0, 156.0, 151.0, 149.0, 147.0, 144.0, 142.0, 141.0, 141.0, 139.0, 137.0, 138.0, 133.0, 131.0, 131.0, 129.0, 128.0, 126.0, 125.0, 124.0, 124.0, 123.0, 122.0, 121.0, 120.0, 119.0, 118.0, 116.0, 114.0, 114.0, 113.0, 112.0, 112.0, 111.0, 110.0, 109.0, 108.0, 107.0, 107.0, 106.0, 106.0, 106.0, 106.0, 104.0, 104.0]\n"
     ]
    }
   ],
   "source": [
    "# all the discharge values at ustream are stored in an array variable\n",
    "# the upsteam discharge values are shown below:\n",
    "\n",
    "us=[sheet.cell_value(r+1,1) for r in range(sheet.nrows-1)]\n",
    "print(us)"
   ]
  },
  {
   "cell_type": "code",
   "execution_count": 7,
   "metadata": {},
   "outputs": [
    {
     "name": "stdout",
     "output_type": "stream",
     "text": [
      "[101.0, 99.7, 99.7, 99.7, 99.7, 99.7, 100.0, 104.0, 109.0, 107.0, 105.0, 104.0, 103.0, 101.0, 101.0, 100.0, 99.7, 99.7, 99.7, 98.0, 96.9, 96.3, 96.3, 96.3, 96.3, 94.6, 94.6, 94.6, 92.9, 92.9, 91.4, 91.4, 89.8, 88.8, 86.7, 86.7, 86.7, 88.2, 89.3, 91.9, 92.4, 94.0, 92.4, 89.3, 86.7, 85.1, 83.6, 82.0, 82.0, 82.0, 83.6, 80.5, 79.0, 77.4, 76.0, 76.9, 81.0, 87.2, 83.6, 82.0, 85.1, 83.6, 83.6, 82.0, 82.0, 80.5, 79.0, 79.0, 82.6, 80.0, 81.5, 80.0, 79.0, 77.4, 76.9, 76.0, 75.5, 76.0, 74.6, 73.2, 71.8, 75.5, 85.7, 114.0, 140.0, 132.0, 98.6, 93.5, 90.8, 94.0, 92.9, 92.4, 86.7, 86.7, 88.2, 89.8, 89.8, 86.7, 94.0, 95.8, 91.4, 101.0, 105.0, 103.0, 108.0, 113.0, 128.0, 141.0, 140.0, 133.0, 142.0, 132.0, 148.0, 171.0, 174.0, 173.0, 171.0, 183.0, 253.0, 289.0, 240.0, 294.0, 299.0, 275.0, 255.0, 253.0, 243.0, 241.0, 228.0, 190.0, 175.0, 190.0, 165.0, 163.0, 162.0, 154.0, 166.0, 188.0, 178.0, 157.0, 147.0, 140.0, 139.0, 173.0, 178.0, 211.0, 243.0, 211.0, 206.0, 202.0, 206.0, 208.0, 231.0, 211.0, 213.0, 218.0, 199.0, 208.0, 231.0, 235.0, 206.0, 191.0, 204.0, 380.0, 261.0, 295.0, 257.0, 266.0, 295.0, 266.0, 234.0, 228.0, 206.0, 225.0, 483.0, 584.0, 332.0, 255.0, 515.0, 541.0, 410.0, 337.0, 409.0, 333.0, 308.0, 278.0, 275.0, 436.0, 333.0, 329.0, 376.0, 425.0, 399.0, 346.0, 508.0, 505.0, 677.0, 692.0, 616.0, 552.0, 498.0, 475.0, 512.0, 568.0, 535.0, 532.0, 591.0, 628.0, 630.0, 802.0, 793.0, 679.0, 636.0, 688.0, 766.0, 762.0, 917.0, 1150.0, 1300.0, 1040.0, 1000.0, 867.0, 966.0, 775.0, 727.0, 649.0, 628.0, 687.0, 674.0, 695.0, 659.0, 675.0, 705.0, 642.0, 595.0, 710.0, 897.0, 896.0, 729.0, 649.0, 677.0, 834.0, 995.0, 962.0, 993.0, 957.0, 1010.0, 1020.0, 981.0, 1240.0, 974.0, 925.0, 862.0, 841.0, 815.0, 806.0, 795.0, 665.0, 707.0, 649.0, 626.0, 612.0, 615.0, 578.0, 560.0, 541.0, 664.0, 631.0, 577.0, 633.0, 628.0, 556.0, 519.0, 489.0, 464.0, 449.0, 443.0, 414.0, 408.0, 399.0, 398.0, 391.0, 377.0, 366.0, 352.0, 342.0, 334.0, 327.0, 321.0, 314.0, 307.0, 300.0, 290.0, 283.0, 275.0, 270.0, 267.0, 261.0, 252.0, 244.0, 238.0, 232.0, 228.0, 225.0, 219.0, 215.0, 209.0, 204.0, 199.0, 196.0, 193.0, 191.0, 187.0, 184.0, 182.0, 180.0, 178.0, 177.0, 176.0, 174.0, 172.0, 170.0, 167.0, 167.0, 166.0, 165.0, 163.0, 163.0, 160.0, 158.0, 157.0, 156.0, 154.0, 151.0, 147.0, 143.0, 141.0, 141.0, 140.0, 139.0, 137.0, 137.0, 135.0, 134.0, 133.0, 133.0, 131.0, 131.0, 129.0, 128.0, 127.0, 125.0, 124.0, 123.0, 121.0, 120.0, 120.0, 120.0, 118.0, 118.0, 118.0, 116.0, 116.0, 115.0, 114.0]\n"
     ]
    }
   ],
   "source": [
    "# the downstream discharge values are stored in an array variable\n",
    "# the downstream discharge values are shown below:\n",
    "\n",
    "ds=[sheet.cell_value(r+1,2) for r in range(sheet.nrows-1)]\n",
    "print(ds)"
   ]
  },
  {
   "cell_type": "code",
   "execution_count": 8,
   "metadata": {},
   "outputs": [
    {
     "data": {
      "text/plain": [
       "Ttest_relResult(statistic=-6.0444817969233, pvalue=3.7125841220349075e-09)"
      ]
     },
     "execution_count": 8,
     "metadata": {},
     "output_type": "execute_result"
    }
   ],
   "source": [
    "# now the upstream and downstream values are used in paired t-test analysis\n",
    "# the t statistic value is obtained as -6.0448 and p-value is very negligible (3.712*10^-9)\n",
    "\n",
    "stats.ttest_rel(us,ds)"
   ]
  },
  {
   "cell_type": "code",
   "execution_count": 9,
   "metadata": {},
   "outputs": [],
   "source": [
    "# here the p value is much less than the half of alpha value (ie 0.025). so null hypothesis is rejected"
   ]
  },
  {
   "cell_type": "code",
   "execution_count": 10,
   "metadata": {},
   "outputs": [],
   "source": [
    "#difference between the respective values are calculated\n",
    "\n",
    "d = np.subtract(us,ds)"
   ]
  },
  {
   "cell_type": "code",
   "execution_count": 11,
   "metadata": {},
   "outputs": [
    {
     "data": {
      "text/plain": [
       "<Figure size 432x288 with 0 Axes>"
      ]
     },
     "metadata": {},
     "output_type": "display_data"
    },
    {
     "data": {
      "image/png": "[encoded data removed]",
      "text/plain": [
       "<Figure size 720x720 with 1 Axes>"
      ]
     },
     "metadata": {
      "needs_background": "light"
     },
     "output_type": "display_data"
    }
   ],
   "source": [
    "# now plotting histogram of difference\n",
    "\n",
    "plt.figure()\n",
    "plt.figure(figsize=(10,10))\n",
    "plt.hist(d,bins=30,density=True,alpha=1,color='g') #plotting histogram for difference\n",
    "\n",
    "mu,std = stats.norm.fit(d)\n",
    "\n",
    "min,max = np.min(d),np.max(d)\n",
    "\n",
    "x = np.linspace(min,max,365)\n",
    "\n",
    "p = stats.norm.pdf(x,mu,std)   #creating pdf for difference\n",
    "\n",
    "# also plotting the gaussian curve\n",
    "\n",
    "plt.plot(x,p,'k',linewidth=2)\n",
    "\n",
    "plt.title('Histogram and PDF plot of Difference of values each day')\n",
    "\n",
    "plt.show()"
   ]
  },
  {
   "cell_type": "code",
   "execution_count": null,
   "metadata": {},
   "outputs": [],
   "source": []
  }
 ],
 "metadata": {
  "kernelspec": {
   "display_name": "Python 3",
   "language": "python",
   "name": "python3"
  },
  "language_info": {
   "codemirror_mode": {
    "name": "ipython",
    "version": 3
   },
   "file_extension": ".py",
   "mimetype": "text/x-python",
   "name": "python",
   "nbconvert_exporter": "python",
   "pygments_lexer": "ipython3",
   "version": "3.7.6"
  }
 },
 "nbformat": 4,
 "nbformat_minor": 4
}
