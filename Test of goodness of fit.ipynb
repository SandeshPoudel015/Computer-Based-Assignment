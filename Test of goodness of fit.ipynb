{
 "cells": [
  {
   "cell_type": "code",
   "execution_count": 1,
   "metadata": {},
   "outputs": [],
   "source": [
    "# importing necessary libraries and commands\n",
    "\n",
    "import pandas as pd\n",
    "import numpy as np\n",
    "from scipy import stats\n",
    "from scipy.stats import chisquare\n",
    "import matplotlib.pyplot as plt"
   ]
  },
  {
   "cell_type": "code",
   "execution_count": 2,
   "metadata": {},
   "outputs": [
    {
     "data": {
      "text/html": [
       "<div>\n",
       "<style scoped>\n",
       "    .dataframe tbody tr th:only-of-type {\n",
       "        vertical-align: middle;\n",
       "    }\n",
       "\n",
       "    .dataframe tbody tr th {\n",
       "        vertical-align: top;\n",
       "    }\n",
       "\n",
       "    .dataframe thead th {\n",
       "        text-align: right;\n",
       "    }\n",
       "</style>\n",
       "<table border=\"1\" class=\"dataframe\">\n",
       "  <thead>\n",
       "    <tr style=\"text-align: right;\">\n",
       "      <th></th>\n",
       "      <th>Crash_ID</th>\n",
       "      <th>Year</th>\n",
       "      <th>Local_Report_Number</th>\n",
       "      <th>Day_in_Week</th>\n",
       "    </tr>\n",
       "  </thead>\n",
       "  <tbody>\n",
       "    <tr>\n",
       "      <th>0</th>\n",
       "      <td>20146089396</td>\n",
       "      <td>2014</td>\n",
       "      <td>140725434</td>\n",
       "      <td>(2) Monday</td>\n",
       "    </tr>\n",
       "    <tr>\n",
       "      <th>1</th>\n",
       "      <td>20156141007</td>\n",
       "      <td>2015</td>\n",
       "      <td>150981625</td>\n",
       "      <td>(7) Saturday</td>\n",
       "    </tr>\n",
       "    <tr>\n",
       "      <th>2</th>\n",
       "      <td>20156113442</td>\n",
       "      <td>2015</td>\n",
       "      <td>150850217</td>\n",
       "      <td>(7) Saturday</td>\n",
       "    </tr>\n",
       "    <tr>\n",
       "      <th>3</th>\n",
       "      <td>20146035108</td>\n",
       "      <td>2014</td>\n",
       "      <td>140249591</td>\n",
       "      <td>(7) Saturday</td>\n",
       "    </tr>\n",
       "    <tr>\n",
       "      <th>4</th>\n",
       "      <td>20156125345</td>\n",
       "      <td>2015</td>\n",
       "      <td>150926699</td>\n",
       "      <td>(3) Tuesday</td>\n",
       "    </tr>\n",
       "  </tbody>\n",
       "</table>\n",
       "</div>"
      ],
      "text/plain": [
       "      Crash_ID  Year Local_Report_Number   Day_in_Week\n",
       "0  20146089396  2014           140725434    (2) Monday\n",
       "1  20156141007  2015           150981625  (7) Saturday\n",
       "2  20156113442  2015           150850217  (7) Saturday\n",
       "3  20146035108  2014           140249591  (7) Saturday\n",
       "4  20156125345  2015           150926699   (3) Tuesday"
      ]
     },
     "execution_count": 2,
     "metadata": {},
     "output_type": "execute_result"
    }
   ],
   "source": [
    "# importing necessary crash data file and showing some data rows for confirming:\n",
    "\n",
    "crashdata=pd.read_excel('Traffic_Crashes.xlsx', sheet_name='Sheet1')\n",
    "crashdata.head(5)"
   ]
  },
  {
   "cell_type": "code",
   "execution_count": 3,
   "metadata": {},
   "outputs": [
    {
     "data": {
      "text/plain": [
       "(3) Tuesday      206\n",
       "(4) Wednesday    197\n",
       "(2) Monday       195\n",
       "(5) Thursday     193\n",
       "(6) Friday       181\n",
       "(7) Saturday     149\n",
       "(1) Sunday       103\n",
       "Name: Day_in_Week, dtype: int64"
      ]
     },
     "execution_count": 3,
     "metadata": {},
     "output_type": "execute_result"
    }
   ],
   "source": [
    "# finding the frequency of crash occurances on different days in week using the Day_in_Week column from the imported data\n",
    "\n",
    "field=crashdata['Day_in_Week']\n",
    "freq=field.value_counts()\n",
    "freq"
   ]
  },
  {
   "cell_type": "code",
   "execution_count": 4,
   "metadata": {},
   "outputs": [
    {
     "data": {
      "text/plain": [
       "Power_divergenceResult(statistic=46.12254901960784, pvalue=2.798804064538544e-08)"
      ]
     },
     "execution_count": 4,
     "metadata": {},
     "output_type": "execute_result"
    }
   ],
   "source": [
    "# Ho: The crash number is uniformly distributed over all the days in week (alpha = 0.05)\n",
    "# H1: The crash number is not uniformly distributed over all the days in week (no significant evidence to support equal distribution)\n",
    "\n",
    "# Now calculating the values:\n",
    "\n",
    "chisquare(freq)"
   ]
  },
  {
   "cell_type": "code",
   "execution_count": 5,
   "metadata": {},
   "outputs": [
    {
     "data": {
      "text/plain": [
       "1223"
      ]
     },
     "execution_count": 5,
     "metadata": {},
     "output_type": "execute_result"
    }
   ],
   "source": [
    "# Also calculating degree of freedom\n",
    "\n",
    "dof=sum(freq)-1\n",
    "dof"
   ]
  },
  {
   "cell_type": "code",
   "execution_count": 6,
   "metadata": {},
   "outputs": [],
   "source": [
    "# Here p value calculated is less than the assumed alpha value.\n",
    "# So Ho is rejected and H1 is accepted.\n",
    "# Hence, there is no significant evidence to support uniform distribution of the crash number over all the days in week."
   ]
  },
  {
   "cell_type": "code",
   "execution_count": null,
   "metadata": {},
   "outputs": [],
   "source": []
  }
 ],
 "metadata": {
  "kernelspec": {
   "display_name": "Python 3",
   "language": "python",
   "name": "python3"
  },
  "language_info": {
   "codemirror_mode": {
    "name": "ipython",
    "version": 3
   },
   "file_extension": ".py",
   "mimetype": "text/x-python",
   "name": "python",
   "nbconvert_exporter": "python",
   "pygments_lexer": "ipython3",
   "version": "3.7.6"
  }
 },
 "nbformat": 4,
 "nbformat_minor": 4
}
